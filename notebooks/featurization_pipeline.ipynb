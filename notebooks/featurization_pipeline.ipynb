{
 "cells": [
  {
   "cell_type": "code",
   "execution_count": 1,
   "metadata": {},
   "outputs": [
    {
     "ename": "ModuleNotFoundError",
     "evalue": "No module named 'sentence_transformers'",
     "output_type": "error",
     "traceback": [
      "\u001b[0;31m---------------------------------------------------------------------------\u001b[0m",
      "\u001b[0;31mModuleNotFoundError\u001b[0m                       Traceback (most recent call last)",
      "Cell \u001b[0;32mIn[1], line 1\u001b[0m\n\u001b[0;32m----> 1\u001b[0m \u001b[38;5;28;01mfrom\u001b[39;00m \u001b[38;5;21;01msentence_transformers\u001b[39;00m \u001b[38;5;28;01mimport\u001b[39;00m SentenceTransformer\n\u001b[1;32m      2\u001b[0m \u001b[38;5;28;01mfrom\u001b[39;00m \u001b[38;5;21;01mpymongo\u001b[39;00m \u001b[38;5;28;01mimport\u001b[39;00m MongoClient\n\u001b[1;32m      3\u001b[0m \u001b[38;5;28;01mfrom\u001b[39;00m \u001b[38;5;21;01mqdrant_client\u001b[39;00m \u001b[38;5;28;01mimport\u001b[39;00m QdrantClient\n",
      "\u001b[0;31mModuleNotFoundError\u001b[0m: No module named 'sentence_transformers'"
     ]
    }
   ],
   "source": [
    "from sentence_transformers import SentenceTransformer\n",
    "from pymongo import MongoClient\n",
    "from qdrant_client import QdrantClient\n",
    "from qdrant_client.http.models import PointStruct\n",
    "\n",
    "# Initialize Clients\n",
    "mongo_client = MongoClient(\"mongodb://localhost:27017/\")\n",
    "db = mongo_client[\"media_database\"]\n",
    "collection = db[\"raw_data\"]\n",
    "\n",
    "qdrant_client = QdrantClient(\"http://localhost:6333\")\n",
    "qdrant_client.recreate_collection(collection_name=\"media_embeddings\", vector_size=768)\n",
    "\n",
    "# Load Model\n",
    "model = SentenceTransformer(\"all-MiniLM-L6-v2\")\n",
    "\n",
    "def featurize_and_store():\n",
    "    for doc in collection.find():\n",
    "        text = doc.get(\"content\") or doc.get(\"title\")\n",
    "        embedding = model.encode(text).tolist()\n",
    "        qdrant_client.upsert(\n",
    "            collection_name=\"media_embeddings\",\n",
    "            points=[PointStruct(id=doc[\"_id\"], vector=embedding, payload=doc)]\n",
    "        )\n",
    "        collection.update_one({\"_id\": doc[\"_id\"]}, {\"$set\": {\"embedding\": embedding}})\n",
    "    \n",
    "if __name__ == \"__main__\":\n",
    "    featurize_and_store()\n",
    "    print(\"Featurization complete.\")"
   ]
  }
 ],
 "metadata": {
  "kernelspec": {
   "display_name": "Python 3",
   "language": "python",
   "name": "python3"
  },
  "language_info": {
   "codemirror_mode": {
    "name": "ipython",
    "version": 3
   },
   "file_extension": ".py",
   "mimetype": "text/x-python",
   "name": "python",
   "nbconvert_exporter": "python",
   "pygments_lexer": "ipython3",
   "version": "3.10.12"
  }
 },
 "nbformat": 4,
 "nbformat_minor": 2
}
